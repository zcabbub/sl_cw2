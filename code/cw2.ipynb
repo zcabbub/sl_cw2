{
  "cells": [
    {
      "cell_type": "markdown",
      "metadata": {
        "id": "view-in-github",
        "colab_type": "text"
      },
      "source": [
        "<a href=\"https://colab.research.google.com/github/zcabbub/sl_cw2/blob/master/code/cw2.ipynb\" target=\"_parent\"><img src=\"https://colab.research.google.com/assets/colab-badge.svg\" alt=\"Open In Colab\"/></a>"
      ]
    },
    {
      "cell_type": "code",
      "execution_count": null,
      "outputs": [],
      "source": [
        "with open('../support/dtrain123.dat', 'r') as file:\n",
        "    lines = file.readlines()"
      ],
      "metadata": {
        "pycharm": {
          "name": "#%%\n"
        },
        "id": "5hFeum3ubCo3"
      }
    },
    {
      "cell_type": "code",
      "execution_count": null,
      "outputs": [
        {
          "data": {
            "text/plain": "'3'"
          },
          "execution_count": 4,
          "metadata": {},
          "output_type": "execute_result"
        }
      ],
      "source": [
        "for x in lineslines[0][0]"
      ],
      "metadata": {
        "pycharm": {
          "name": "#%%\n"
        },
        "id": "QLoMHg-pbCo7",
        "outputId": "5cb4e0f2-8b58-4d10-eb4e-011f574eb91d"
      }
    },
    {
      "cell_type": "code",
      "execution_count": null,
      "outputs": [],
      "source": [
        "# perform 20 runs"
      ],
      "metadata": {
        "pycharm": {
          "name": "#%%\n"
        },
        "id": "M-GOfqI1bCo8"
      }
    },
    {
      "cell_type": "markdown",
      "source": [
        "### Part 1\n",
        "\n",
        "#### Basic results:\n",
        "- perform 20 runs\n",
        "- each run for $d=1,...,7$\n",
        "- each run randomly split $zipcombo.dat$ in 80% train and 20% test\n",
        "- c"
      ],
      "metadata": {
        "collapsed": false,
        "pycharm": {
          "name": "#%% md\n"
        },
        "id": "GfXavMXdbCo8"
      }
    }
  ],
  "metadata": {
    "kernelspec": {
      "display_name": "Python 3",
      "language": "python",
      "name": "python3"
    },
    "language_info": {
      "codemirror_mode": {
        "name": "ipython",
        "version": 2
      },
      "file_extension": ".py",
      "mimetype": "text/x-python",
      "name": "python",
      "nbconvert_exporter": "python",
      "pygments_lexer": "ipython2",
      "version": "2.7.6"
    },
    "colab": {
      "provenance": [],
      "include_colab_link": true
    }
  },
  "nbformat": 4,
  "nbformat_minor": 0
}