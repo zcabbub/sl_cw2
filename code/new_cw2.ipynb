{
 "cells": [
  {
   "cell_type": "code",
   "execution_count": 1,
   "outputs": [],
   "source": [
    "with open('../support/zipcombo.dat', 'r') as file:\n",
    "    lines = file.readlines()"
   ],
   "metadata": {
    "collapsed": false,
    "pycharm": {
     "name": "#%%\n"
    }
   }
  },
  {
   "cell_type": "markdown",
   "source": [
    "### Part 1\n",
    "\n",
    "#### Basic results:\n",
    "- perform 20 runs\n",
    "- each run for $d=1,...,7$\n",
    "- each run randomly split $zipcombo.dat$ in 80% train and 20% test"
   ],
   "metadata": {
    "collapsed": false,
    "pycharm": {
     "name": "#%% md\n"
    }
   }
  },
  {
   "cell_type": "code",
   "execution_count": 2,
   "outputs": [],
   "source": [
    "import numpy as np\n",
    "from functools import partial\n",
    "from typing import Callable, Iterable"
   ],
   "metadata": {
    "collapsed": false,
    "pycharm": {
     "name": "#%%\n"
    }
   }
  },
  {
   "cell_type": "code",
   "execution_count": null,
   "outputs": [],
   "source": [
    "def polynomial_kernel(x_i: np.ndarray, x_t: np.ndarray, d: int):\n",
    "    return np.inner(x_i, x_t) ** d"
   ],
   "metadata": {
    "collapsed": false,
    "pycharm": {
     "name": "#%%\n"
    }
   }
  },
  {
   "cell_type": "code",
   "execution_count": null,
   "outputs": [],
   "source": [
    "def gaussian_kernel(x_i: np.ndarray, x_j: np.ndarray, sigma=1):\n",
    "    if x_i.shape[0] != x_j.shape[0]:\n",
    "        raise Exception(\"Cannot apply kernel to vectors of different dimensions: x_i has shape {s1}, x_j has shape {s2}\"\n",
    "                        .format(s1=x_i.shape, s2=x_j.shape))\n",
    "    diff = x_i - x_j\n",
    "    return np.exp(-1 * np.inner(diff, diff) / (2 * sigma**2))"
   ],
   "metadata": {
    "collapsed": false,
    "pycharm": {
     "name": "#%%\n"
    }
   }
  },
  {
   "cell_type": "code",
   "execution_count": 4,
   "outputs": [],
   "source": [
    "class KernelPerceptron:\n",
    "    def __init__(self, kernel: Callable[[np.ndarray, np.ndarray], float]):\n",
    "        self.kernel = kernel\n",
    "\n",
    "    def _get_kernel_matrix(self, X: np.ndarray, kernel: Callable[[np.ndarray, np.ndarray], float]) -> np.ndarray:\n",
    "        K = np.zeros((X.shape[0], X.shape[0]))\n",
    "        for i in range(0, X.shape[0]):\n",
    "            x_i = X[i, :]\n",
    "            for j in range(i, X.shape[0]):\n",
    "                x_j = X[j, :]\n",
    "                K[i, j] = K[j, i] = kernel(x_i, x_j)\n",
    "        return K\n",
    "\n",
    "    def fit(self, X_train: np.ndarray, y_train: np.ndarray, n_epochs: int):\n",
    "        self.X_train = X_train\n",
    "        self.alpha = np.zeros(X_train.shape[0])\n",
    "        # Compute kernel matrix which stays constant throught the algorithm and all epochs\n",
    "        self.K = self._get_kernel_matrix(X_train, self.kernel)\n",
    "\n",
    "        for epoch in range(0, n_epochs):\n",
    "            for t in range(0, X_train.shape[0]):\n",
    "                y_pred = np.sign(np.sum(np.inner(self.K[t, :t-1], self.alpha[:t-1])))\n",
    "                if y_pred == y_train[t]:\n",
    "                    self.alpha[t] = 0\n",
    "                else:\n",
    "                    self.alpha[t] = y_train[t]\n",
    "\n",
    "    def predict(self, X: np.ndarray) -> np.ndarray:\n",
    "        predictions = []\n",
    "        for x_test in X:\n",
    "            sum = 0\n",
    "            for t in self.X_train.shape[0]:\n",
    "                sum += self.alpha[t] * self.kernel(self.X_train[t, :], x_test)\n",
    "            predictions.append(np.sign(sum))\n",
    "        return np.array(predictions)"
   ],
   "metadata": {
    "collapsed": false,
    "pycharm": {
     "name": "#%%\n"
    }
   }
  },
  {
   "cell_type": "code",
   "execution_count": null,
   "outputs": [],
   "source": [
    "# Example usage of KernelPerceptron (untested)\n",
    "kp = KernelPerceptron(kernel=partial(polynomial_kernel, d=3))\n",
    "kp.fit(X_train, y_train, 100)\n",
    "y_outsample = kp.predict(X_test) # all predictions of test sample in y_outsample"
   ],
   "metadata": {
    "collapsed": false,
    "pycharm": {
     "name": "#%%\n"
    }
   }
  },
  {
   "cell_type": "code",
   "execution_count": 4,
   "outputs": [],
   "source": [
    "def split(data, seed) -> (np.ndarray, np.ndarray):\n",
    "    '''\n",
    "    Splits 80% train 20% test\n",
    "\n",
    "    :param data: sequence\n",
    "    :return: train_data, test_data: np.ndarray, np.ndarray\n",
    "    '''\n",
    "    np.random.seed(seed)\n",
    "    shuffle = np.random.permutation(data)\n",
    "    return shuffle[:80], shuffle[80:]"
   ],
   "metadata": {
    "collapsed": false,
    "pycharm": {
     "name": "#%%\n"
    }
   }
  },
  {
   "cell_type": "code",
   "execution_count": 8,
   "outputs": [
    {
     "name": "stdout",
     "output_type": "stream",
     "text": [
      "0\n",
      "1\n",
      "2\n",
      "3\n",
      "4\n",
      "5\n",
      "6\n",
      "7\n",
      "8\n",
      "9\n",
      "10\n",
      "11\n",
      "12\n",
      "13\n",
      "14\n",
      "15\n",
      "16\n",
      "17\n",
      "18\n",
      "19\n"
     ]
    }
   ],
   "source": [
    "seeds = np.random.randint(0, 100, 20)\n",
    "\n",
    "mse_train = []\n",
    "std_train = []\n",
    "\n",
    "mse_test = []\n",
    "std_test = []\n",
    "\n",
    "for d in range(1, 7):\n",
    "    for run in range(20):\n",
    "        # different seed for each run\n",
    "        train, test = split(lines, seeds[run])\n"
   ],
   "metadata": {
    "collapsed": false,
    "pycharm": {
     "name": "#%%\n"
    }
   }
  },
  {
   "cell_type": "code",
   "execution_count": null,
   "outputs": [],
   "source": [],
   "metadata": {
    "collapsed": false,
    "pycharm": {
     "name": "#%%\n"
    }
   }
  }
 ],
 "metadata": {
  "kernelspec": {
   "display_name": "Python 3",
   "language": "python",
   "name": "python3"
  },
  "language_info": {
   "codemirror_mode": {
    "name": "ipython",
    "version": 2
   },
   "file_extension": ".py",
   "mimetype": "text/x-python",
   "name": "python",
   "nbconvert_exporter": "python",
   "pygments_lexer": "ipython2",
   "version": "2.7.6"
  }
 },
 "nbformat": 4,
 "nbformat_minor": 0
}