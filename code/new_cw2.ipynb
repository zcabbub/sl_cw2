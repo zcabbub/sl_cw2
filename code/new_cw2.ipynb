{
 "cells": [
  {
   "cell_type": "markdown",
   "source": [
    "## Importing all modules in cell below."
   ],
   "metadata": {
    "collapsed": false,
    "pycharm": {
     "name": "#%% md\n"
    }
   }
  },
  {
   "cell_type": "code",
   "execution_count": 1,
   "outputs": [],
   "source": [
    "import numpy as np\n",
    "import matplotlib.pyplot as plt\n",
    "from functools import partial\n",
    "from typing import Callable, Iterable"
   ],
   "metadata": {
    "collapsed": false,
    "pycharm": {
     "name": "#%%\n"
    }
   }
  },
  {
   "cell_type": "markdown",
   "source": [
    "## Load dummy 1-2-3 digit dataset"
   ],
   "metadata": {
    "collapsed": false,
    "pycharm": {
     "name": "#%% md\n"
    }
   }
  },
  {
   "cell_type": "code",
   "execution_count": 2,
   "outputs": [],
   "source": [
    "# data = np.loadtxt('../support/zipcombo.dat')\n",
    "data_123 = np.loadtxt('../support/dtrain123.dat')"
   ],
   "metadata": {
    "collapsed": false,
    "pycharm": {
     "name": "#%%\n"
    }
   }
  },
  {
   "cell_type": "code",
   "execution_count": 3,
   "outputs": [
    {
     "data": {
      "text/plain": "(329, 257)"
     },
     "execution_count": 3,
     "metadata": {},
     "output_type": "execute_result"
    }
   ],
   "source": [
    "data_123.shape"
   ],
   "metadata": {
    "collapsed": false,
    "pycharm": {
     "name": "#%%\n"
    }
   }
  },
  {
   "cell_type": "markdown",
   "source": [
    "We now define functions for splitting the dataset into train/test and input/label."
   ],
   "metadata": {
    "collapsed": false,
    "pycharm": {
     "name": "#%% md\n"
    }
   }
  },
  {
   "cell_type": "code",
   "execution_count": 4,
   "outputs": [],
   "source": [
    "def split_80_20(data: np.ndarray, seed: int) -> (np.ndarray, np.ndarray):\n",
    "    \"\"\"\n",
    "    Splits 80% train 20% test\n",
    "\n",
    "    :param data: sequence.\n",
    "    :param seed: Random seed used to shuffle given data.\n",
    "    :return: train_data, test_data: np.ndarray, np.ndarray\n",
    "    \"\"\"\n",
    "    np.random.seed(seed)\n",
    "    n = data.shape[0]\n",
    "    shuffle = np.random.permutation(data)\n",
    "    train_size = int(n*0.8)\n",
    "    return shuffle[:train_size], shuffle[train_size:]"
   ],
   "metadata": {
    "collapsed": false,
    "pycharm": {
     "name": "#%%\n"
    }
   }
  },
  {
   "cell_type": "code",
   "execution_count": 5,
   "outputs": [],
   "source": [
    "def split_X_y(data: np.ndarray) -> (np.ndarray, np.ndarray):\n",
    "    \"\"\"\n",
    "    Splits the data into datapoints and labels, X_train matrix and y_train;\n",
    "    :param data: np.ndarray\n",
    "    :return: X_train, y_train: np.ndarray, np.ndarray\n",
    "    \"\"\"\n",
    "\n",
    "    return data[:, 1:], data[:, 0]"
   ],
   "metadata": {
    "collapsed": false,
    "pycharm": {
     "name": "#%%\n"
    }
   }
  },
  {
   "cell_type": "code",
   "execution_count": 6,
   "outputs": [
    {
     "name": "stdout",
     "output_type": "stream",
     "text": [
      "Train data set size = 263\n",
      "Test data set size = 66\n"
     ]
    },
    {
     "data": {
      "text/plain": "(2.0,\n array([-1.   , -1.   , -1.   , -1.   , -0.723,  0.203,  0.843,  1.   ,\n         0.556, -0.415, -1.   , -1.   , -1.   , -1.   , -1.   , -1.   ,\n        -1.   , -1.   , -1.   , -0.503,  0.885,  1.   ,  0.847,  0.878,\n         1.   ,  0.966,  0.   , -1.   , -1.   , -1.   , -1.   , -1.   ,\n        -1.   , -1.   , -0.499,  0.91 ,  0.752, -0.201, -0.916, -0.866,\n        -0.312,  0.869,  0.952, -0.495, -1.   , -1.   , -1.   , -1.   ,\n        -1.   , -0.809,  0.921,  0.29 , -0.973, -1.   , -1.   , -1.   ,\n        -1.   , -0.194,  1.   ,  0.275, -1.   , -1.   , -1.   , -1.   ,\n        -1.   , -0.906,  0.119, -0.853, -1.   , -1.   , -1.   , -1.   ,\n        -1.   , -0.94 ,  1.   ,  0.736, -1.   , -1.   , -1.   , -1.   ,\n        -1.   , -1.   , -1.   , -1.   , -1.   , -1.   , -1.   , -1.   ,\n        -1.   , -0.767,  1.   ,  0.711, -1.   , -1.   , -1.   , -1.   ,\n        -1.   , -1.   , -1.   , -1.   , -1.   , -1.   , -1.   , -1.   ,\n        -1.   , -0.345,  1.   ,  0.142, -1.   , -1.   , -1.   , -1.   ,\n        -1.   , -1.   , -1.   , -1.   , -1.   , -1.   , -1.   , -1.   ,\n        -1.   ,  0.288,  0.998, -0.343, -1.   , -1.   , -1.   , -1.   ,\n        -1.   , -1.   , -1.   , -1.   , -1.   , -1.   , -1.   , -1.   ,\n        -0.599,  0.924,  0.619, -1.   , -1.   , -1.   , -1.   , -1.   ,\n        -1.   , -1.   , -1.   , -1.   , -1.   , -1.   , -1.   , -0.844,\n         0.629,  0.937, -0.65 , -1.   , -1.   , -1.   , -1.   , -1.   ,\n        -1.   , -1.   , -1.   , -1.   , -1.   , -1.   , -0.637,  0.499,\n         1.   , -0.275, -1.   , -1.   , -1.   , -1.   , -1.   , -1.   ,\n        -1.   , -1.   , -1.   , -1.   , -0.704,  0.372,  0.988,  0.913,\n        -0.39 , -0.992, -1.   , -1.   , -1.   , -1.   , -1.   , -1.   ,\n        -1.   , -1.   , -1.   ,  0.107,  0.949,  1.   ,  0.537, -0.68 ,\n        -1.   , -1.   , -1.   , -1.   , -0.89 , -0.491, -0.929, -1.   ,\n        -1.   , -1.   , -0.482,  0.999,  1.   , -0.041, -0.814, -0.867,\n        -0.661, -0.396, -0.05 ,  0.443,  0.973,  0.774, -0.853, -1.   ,\n        -1.   , -1.   , -0.785,  0.731,  1.   ,  1.   ,  0.903,  0.876,\n         1.   ,  1.   ,  0.834,  0.35 ,  0.004, -0.869, -1.   , -1.   ,\n        -1.   , -1.   , -1.   , -0.921, -0.26 ,  0.386,  0.739,  1.   ,\n         0.477, -0.516, -0.991, -1.   , -1.   , -1.   , -1.   , -1.   ]))"
     },
     "execution_count": 6,
     "metadata": {},
     "output_type": "execute_result"
    }
   ],
   "source": [
    "# Test splitting functions\n",
    "data_train_123, data_test_123 = split_80_20(data_123, seed=637)\n",
    "X_train_123, y_train_123 = split_X_y(data_train_123)\n",
    "X_test_123, y_test_123 = split_X_y(data_test_123)\n",
    "\n",
    "assert X_train_123.shape[0] == y_train_123.size\n",
    "assert X_test_123.shape[0] == y_test_123.size\n",
    "\n",
    "print(\"Train data set size = %d\" % X_train_123.shape[0])\n",
    "print(\"Test data set size = %d\" % X_test_123.shape[0])\n",
    "\n",
    "# Testing data cleaning\n",
    "y_train_123[100], X_train_123[100]"
   ],
   "metadata": {
    "collapsed": false,
    "pycharm": {
     "name": "#%%\n"
    }
   }
  },
  {
   "cell_type": "code",
   "execution_count": 7,
   "outputs": [],
   "source": [
    "def display_digit(grayscale):\n",
    "    plt.imshow(np.reshape(grayscale, (16, 16)), cmap='gray')"
   ],
   "metadata": {
    "collapsed": false,
    "pycharm": {
     "name": "#%%\n"
    }
   }
  },
  {
   "cell_type": "code",
   "execution_count": 8,
   "outputs": [
    {
     "data": {
      "text/plain": "<Figure size 640x480 with 1 Axes>",
      "image/png": "[encoded data removed]"
     },
     "metadata": {},
     "output_type": "display_data"
    }
   ],
   "source": [
    "display_digit(X_train_123[100])"
   ],
   "metadata": {
    "collapsed": false,
    "pycharm": {
     "name": "#%%\n"
    }
   }
  },
  {
   "cell_type": "markdown",
   "source": [
    "Let us now define the Kernel Perceptron algorithm and kernel functions to be used."
   ],
   "metadata": {
    "collapsed": false,
    "pycharm": {
     "name": "#%% md\n"
    }
   }
  },
  {
   "cell_type": "code",
   "execution_count": 9,
   "outputs": [],
   "source": [
    "def polynomial_kernel(x_i: np.ndarray, x_t: np.ndarray, d: int):\n",
    "    return np.inner(x_i, x_t) ** d"
   ],
   "metadata": {
    "collapsed": false,
    "pycharm": {
     "name": "#%%\n"
    }
   }
  },
  {
   "cell_type": "code",
   "execution_count": 10,
   "outputs": [],
   "source": [
    "def gaussian_kernel(x_i: np.ndarray, x_j: np.ndarray, sigma=1):\n",
    "    if x_i.shape[0] != x_j.shape[0]:\n",
    "        raise Exception(\"Cannot apply kernel to vectors of different dimensions: x_i has shape {s1}, x_j has shape {s2}\"\n",
    "                        .format(s1=x_i.shape, s2=x_j.shape))\n",
    "    diff = x_i - x_j\n",
    "    return np.exp(-1 * np.inner(diff, diff) / (2 * sigma**2))"
   ],
   "metadata": {
    "collapsed": false,
    "pycharm": {
     "name": "#%%\n"
    }
   }
  },
  {
   "cell_type": "code",
   "execution_count": 11,
   "outputs": [],
   "source": [
    "class KernelPerceptron:\n",
    "    def __init__(self, kernel: Callable[[np.ndarray, np.ndarray], float]):\n",
    "        self.kernel = kernel\n",
    "        self.K = None\n",
    "        self.alpha = None\n",
    "        self.X_train = None\n",
    "\n",
    "\n",
    "    def _get_kernel_matrix(self, X_train: np.ndarray) -> np.ndarray:\n",
    "        K = np.zeros((X_train.shape[0], X_train.shape[0]))\n",
    "\n",
    "        for i in range(0, X_train.shape[0]):\n",
    "            for j in range(i, X_train.shape[0]):\n",
    "                K[i, j] = K[j, i] = self.kernel(X_train[i], X_train[j])\n",
    "\n",
    "        return K\n",
    "\n",
    "\n",
    "    def fit(self, X_train: np.ndarray, y_train: np.ndarray, n_epochs: int) -> np.ndarray:\n",
    "        \"\"\"\n",
    "        Prediction function that populates the alpha parameter, 1 data point at a time;\n",
    "        :param X_train: training data points\n",
    "        :param y_train: training corresponding labels\n",
    "        :param n_epochs: number of times to pass through the data. Alpha contains the learning parameters that get inherited from one epoch to the other\n",
    "        :return: y_preds: the predictions enhanced after N epochs\n",
    "\n",
    "        \"\"\"\n",
    "        if y_train.ndim != 1:\n",
    "            raise Exception('y_train must be a 1-dim np.ndarray. Given y_train with shape {s}'.format(s=y_train.shape))\n",
    "        if X_train.shape[0] != y_train.size:\n",
    "            raise Exception('X_train and y_train must contain equal number of samples. Given X_train with shape {s1} and y_train with shape {s2}'.format(s1=y_train.shape, s2=X_train.shape))\n",
    "\n",
    "        y_preds = np.zeros(X_train.shape[0])\n",
    "        self.X_train = X_train\n",
    "        self.alpha = np.zeros(X_train.shape[0])\n",
    "\n",
    "        # Compute kernel matrix which stays constant throughout the algorithm and all epochs\n",
    "        self.K = self._get_kernel_matrix(X_train)\n",
    "\n",
    "        for epoch in range(0, n_epochs):\n",
    "            # First prediction is always 0, start from t = 1\n",
    "            for t in range(0, X_train.shape[0]):\n",
    "                y_pred = self._predict_single(t)\n",
    "                y_preds[t] = y_pred\n",
    "                if y_pred == y_train[t]:\n",
    "                    self.alpha[t] = 0\n",
    "                else:\n",
    "                    self.alpha[t] += y_train[t]\n",
    "        return y_preds\n",
    "\n",
    "\n",
    "    def _predict_single(self, t: int):\n",
    "        return np.sign(np.inner(self.K[t, :t], self.alpha[:t]))\n",
    "\n",
    "\n",
    "    def predict(self, X: np.ndarray) -> np.ndarray:\n",
    "        \"\"\"\n",
    "        Prediction function to be used for out-of-sample test data point.\n",
    "        Does not perform online learning (update step).\n",
    "        :param X: test data points.\n",
    "        :return: np.ndarray of predictions for each given test data point.\n",
    "        \"\"\"\n",
    "        predictions = []\n",
    "        for x_test in X:\n",
    "            sum = 0\n",
    "            for t in range(self.X_train.shape[0]):\n",
    "                # Can improve by using kernel matrix\n",
    "                sum += self.alpha[t] * self.kernel(self.X_train[t], x_test)\n",
    "            predictions.append(np.sign(sum))\n",
    "        return np.array(predictions)\n",
    "\n",
    "\n",
    "kp = KernelPerceptron(kernel=partial(polynomial_kernel, d=3))\n",
    "y_insample = kp.fit(X_train_12, y_train_12, n_epochs=1)"
   ],
   "metadata": {
    "collapsed": false,
    "pycharm": {
     "name": "#%%\n"
    }
   }
  },
  {
   "cell_type": "markdown",
   "source": [
    "Let us test the Kernel Perceptron implementation on a dummy dataset of only digits 1 and 2."
   ],
   "metadata": {
    "collapsed": false,
    "pycharm": {
     "name": "#%% md\n"
    }
   }
  },
  {
   "cell_type": "code",
   "execution_count": 11,
   "outputs": [
    {
     "data": {
      "text/plain": "array([ 1., -1.,  1., -1.,  1.,  1.,  1.,  1., -1., -1.,  1.,  1., -1.,\n        1.,  1., -1.,  1.,  1., -1., -1.,  1., -1., -1.,  1.,  1., -1.,\n       -1., -1.,  1., -1., -1.,  1.,  1., -1., -1.,  1.,  1.,  1.,  1.,\n       -1.,  1.,  1.,  1.,  1.,  1.,  1., -1.,  1.,  1.,  1., -1., -1.,\n       -1.,  1., -1., -1., -1.,  1.,  1., -1., -1., -1.,  1.,  1.,  1.,\n       -1.,  1.,  1.,  1., -1.,  1.,  1.,  1., -1.,  1.,  1.,  1.,  1.,\n        1.,  1.,  1., -1., -1., -1.,  1.,  1.,  1.,  1., -1.,  1., -1.,\n        1.,  1., -1., -1.,  1., -1.,  1.,  1.,  1.,  1.,  1., -1.,  1.,\n        1.,  1., -1., -1.,  1., -1.,  1.,  1., -1., -1., -1.,  1., -1.,\n        1.,  1., -1.,  1., -1.,  1., -1., -1.,  1., -1., -1.,  1., -1.,\n        1.,  1., -1.,  1., -1., -1., -1.,  1.,  1., -1.,  1., -1., -1.,\n       -1., -1.,  1., -1., -1.,  1., -1., -1., -1.,  1., -1.,  1., -1.,\n        1., -1., -1.,  1., -1.,  1., -1., -1.,  1., -1., -1., -1., -1.,\n        1.,  1.,  1., -1., -1., -1.,  1., -1., -1.,  1.,  1.,  1.,  1.,\n       -1.,  1.,  1., -1.,  1.,  1., -1., -1.,  1.,  1.,  1.,  1., -1.,\n        1., -1.,  1.,  1., -1.,  1.,  1.,  1., -1.,  1.])"
     },
     "metadata": {},
     "output_type": "display_data"
    },
    {
     "data": {
      "text/plain": "array([ 1., -1.,  1.,  1., -1.,  1., -1.,  1.,  1.,  1.,  1., -1., -1.,\n       -1.,  1.,  1., -1.,  1., -1., -1.,  1., -1.,  1., -1., -1., -1.,\n        1.,  1.,  1., -1.,  1., -1.,  1.,  1., -1., -1.,  1., -1., -1.,\n        1., -1.,  1., -1., -1.,  1.,  1., -1., -1., -1.,  1., -1., -1.,\n        1., -1.])"
     },
     "metadata": {},
     "output_type": "display_data"
    },
    {
     "data": {
      "text/plain": "1.0"
     },
     "metadata": {},
     "output_type": "display_data"
    },
    {
     "data": {
      "text/plain": "<Figure size 640x480 with 1 Axes>",
      "image/png": "[encoded data removed]"
     },
     "metadata": {},
     "output_type": "display_data"
    }
   ],
   "source": [
    "# Filter out digit 3 (leave only digit 1 and 2) from dtrain123.dat train and test dataset\n",
    "indxs_digit_3 = np.where(y_train_123 == 3)\n",
    "X_train_12 = np.delete(X_train_123, indxs_digit_3, axis=0)\n",
    "y_train_12 = np.delete(y_train_123, indxs_digit_3)\n",
    "y_train_12[y_train_12 == 1] = -1\n",
    "y_train_12[y_train_12 == 2] = 1\n",
    "\n",
    "indxs_digit_3 = np.where(y_test_123 == 3)\n",
    "X_test_12 = np.delete(X_test_123, indxs_digit_3, axis=0)\n",
    "y_test_12 = np.delete(y_test_123, indxs_digit_3)\n",
    "y_test_12[y_test_12 == 1] = -1\n",
    "y_test_12[y_test_12 == 2] = 1\n",
    "\n",
    "assert X_train_12.shape[0] == y_train_12.size\n",
    "assert X_test_12.shape[0] == y_test_12.size\n",
    "\n",
    "display(y_train_12, y_test_12)\n",
    "\n",
    "display_digit(X_train_12[5])\n",
    "display(y_train_12[5])"
   ],
   "metadata": {
    "collapsed": false,
    "pycharm": {
     "name": "#%%\n"
    }
   }
  },
  {
   "cell_type": "code",
   "execution_count": null,
   "outputs": [],
   "source": [
    "## Test the kernel matrix\n",
    "kp_test = KernelPerceptron(kernel=partial(polynomial_kernel, d=3))\n",
    "kernel_matrix = kp_test._get_kernel_matrix(X_train_12)\n",
    "polynomial_kernel(X_train_12[0], X_train_12[0], d=3) == kernel_matrix[0][0]"
   ],
   "metadata": {
    "collapsed": false,
    "pycharm": {
     "name": "#%%\n"
    }
   }
  },
  {
   "cell_type": "code",
   "execution_count": null,
   "outputs": [],
   "source": [
    "# Test fitting and in-sample predictions\n",
    "kp = KernelPerceptron(kernel=partial(polynomial_kernel, d=3))\n",
    "y_insample = kp.fit(X_train_12, y_train_12, n_epochs=1)\n",
    "y_insample.size, y_train_12.size, y_insample"
   ],
   "metadata": {
    "collapsed": false,
    "pycharm": {
     "name": "#%%\n"
    }
   }
  },
  {
   "cell_type": "code",
   "execution_count": null,
   "outputs": [],
   "source": [
    "# Test out-of-sample predictions\n",
    "y_outsample = kp.predict(X_test_12) # all predictions of test sample in y_outsample\n",
    "y_outsample"
   ],
   "metadata": {
    "collapsed": false,
    "pycharm": {
     "name": "#%%\n"
    }
   }
  },
  {
   "cell_type": "code",
   "execution_count": null,
   "outputs": [],
   "source": [
    "def get_num_mistakes(actual: np.ndarray, predicted: np.ndarray) -> int:\n",
    "    # or calculating by checking which alpha values are different than 0? alpha is 0 when the prediction matches\n",
    "    diffs = actual - predicted\n",
    "    n_mistakes = 0\n",
    "    for diff in diffs:\n",
    "        if diff != 0:\n",
    "            n_mistakes += 1\n",
    "    return n_mistakes"
   ],
   "metadata": {
    "collapsed": false,
    "pycharm": {
     "name": "#%%\n"
    }
   }
  },
  {
   "cell_type": "code",
   "execution_count": null,
   "outputs": [],
   "source": [
    "print(\"in-sample = % \" + str(100 * get_num_mistakes(actual=y_train_12, predicted=y_insample) / y_train_12.size))\n",
    "print(\"out-of-sample = % \" + str(100 * get_num_mistakes(actual=y_test_12, predicted=y_outsample) / y_test_12.size))\n"
   ],
   "metadata": {
    "collapsed": false,
    "pycharm": {
     "name": "#%%\n"
    }
   }
  },
  {
   "cell_type": "code",
   "execution_count": 27,
   "outputs": [
    {
     "data": {
      "text/plain": "True"
     },
     "execution_count": 27,
     "metadata": {},
     "output_type": "execute_result"
    }
   ],
   "source": [
    "## Test the kernel matrix\n",
    "kp_test = KernelPerceptron(kernel=partial(polynomial_kernel, d=3))\n",
    "kernel_matrix = kp_test._get_kernel_matrix(X_train_12)\n",
    "polynomial_kernel(X_train_12[0], X_train_12[0], d=3) == kernel_matrix[0][0]"
   ],
   "metadata": {
    "collapsed": false
   }
  },
  {
   "cell_type": "code",
   "execution_count": 28,
   "outputs": [
    {
     "data": {
      "text/plain": "(205,\n 205,\n array([ 0.,  0.,  1., -1., -1.,  1.,  1.,  1., -1., -1., -1.,  1., -1.,\n         1., -1., -1., -1.,  1., -1., -1.,  1., -1., -1.,  1.,  1., -1.,\n        -1., -1.,  1., -1., -1., -1.,  1., -1., -1.,  1.,  1.,  1.,  1.,\n        -1., -1.,  1.,  1., -1.,  1., -1., -1.,  1., -1., -1., -1., -1.,\n        -1., -1., -1., -1., -1.,  1.,  1., -1., -1., -1.,  1.,  1.,  1.,\n        -1.,  1.,  1.,  1., -1.,  1.,  1.,  1., -1., -1.,  1.,  1., -1.,\n        -1.,  1.,  1., -1., -1., -1., -1.,  1., -1.,  1., -1.,  1., -1.,\n         1.,  1., -1., -1., -1., -1.,  1.,  1.,  1.,  1.,  1., -1., -1.,\n         1.,  1., -1., -1.,  1., -1., -1.,  1., -1., -1., -1.,  1., -1.,\n         1., -1., -1., -1., -1.,  1., -1., -1., -1., -1., -1.,  1., -1.,\n        -1.,  1., -1.,  1., -1., -1., -1.,  1., -1., -1.,  1., -1., -1.,\n        -1., -1.,  1., -1., -1.,  1., -1., -1., -1., -1., -1.,  1., -1.,\n         1., -1., -1., -1., -1.,  1., -1., -1.,  1., -1., -1., -1., -1.,\n         1., -1.,  1., -1., -1., -1.,  1., -1., -1.,  1., -1.,  1.,  1.,\n        -1., -1., -1., -1.,  1.,  1., -1., -1., -1.,  1., -1.,  1., -1.,\n         1., -1.,  1., -1., -1.,  1., -1., -1., -1.,  1.]))"
     },
     "execution_count": 28,
     "metadata": {},
     "output_type": "execute_result"
    }
   ],
   "source": [
    "# Test fitting and in-sample predictions\n",
    "kp = KernelPerceptron(kernel=partial(polynomial_kernel, d=3))\n",
    "y_insample = kp.fit(X_train_12, y_train_12, n_epochs=1)\n",
    "y_insample.size, y_train_12.size, y_insample"
   ],
   "metadata": {
    "collapsed": false
   }
  },
  {
   "cell_type": "code",
   "execution_count": 29,
   "outputs": [
    {
     "data": {
      "text/plain": "array([ 1., -1.,  1.,  1., -1., -1., -1., -1., -1.,  1.,  1., -1., -1.,\n       -1.,  1.,  1., -1.,  1., -1., -1.,  1., -1.,  1., -1., -1., -1.,\n        1.,  1.,  1., -1.,  1., -1., -1.,  1., -1., -1., -1., -1., -1.,\n        1., -1.,  1., -1., -1., -1., -1., -1., -1., -1.,  1., -1., -1.,\n        1., -1.])"
     },
     "execution_count": 29,
     "metadata": {},
     "output_type": "execute_result"
    }
   ],
   "source": [
    "# Test out-of-sample predictions\n",
    "y_outsample = kp.predict(X_test_12) # all predictions of test sample in y_outsample\n",
    "y_outsample"
   ],
   "metadata": {
    "collapsed": false
   }
  },
  {
   "cell_type": "code",
   "execution_count": 30,
   "outputs": [],
   "source": [
    "def get_num_mistakes(actual: np.ndarray, predicted: np.ndarray) -> int:\n",
    "    # or calculating by checking which alpha values are different than 0? alpha is 0 when the prediction matches\n",
    "    diffs = actual - predicted\n",
    "    n_mistakes = 0\n",
    "    for diff in diffs:\n",
    "        if diff != 0:\n",
    "            n_mistakes += 1\n",
    "    return n_mistakes"
   ],
   "metadata": {
    "collapsed": false
   }
  },
  {
   "cell_type": "code",
   "execution_count": 31,
   "outputs": [
    {
     "name": "stdout",
     "output_type": "stream",
     "text": [
      "in-sample = % 18.048780487804876\n",
      "out-of-sample = % 12.962962962962964\n"
     ]
    }
   ],
   "source": [
    "print(\"in-sample = % \" + str(100 * get_num_mistakes(actual=y_train_12, predicted=y_insample) / y_train_12.size))\n",
    "print(\"out-of-sample = % \" + str(100 * get_num_mistakes(actual=y_test_12, predicted=y_outsample) / y_test_12.size))\n"
   ],
   "metadata": {
    "collapsed": false
   }
  },
  {
   "cell_type": "code",
   "execution_count": 35,
   "outputs": [],
   "source": [
    "mist=0\n",
    "for val in kp.alpha:\n",
    "    if val!=0:\n",
    "      mist+=1"
   ],
   "metadata": {
    "collapsed": false
   }
  },
  {
   "cell_type": "code",
   "execution_count": 36,
   "outputs": [
    {
     "data": {
      "text/plain": "209"
     },
     "execution_count": 36,
     "metadata": {},
     "output_type": "execute_result"
    }
   ],
   "source": [
    "# why is it different than get_mistakes? maybe is because alpha is 0?\n",
    "mist"
   ],
   "metadata": {
    "collapsed": false
   }
  },
  {
   "cell_type": "markdown",
   "source": [
    "### Part 1\n",
    "\n",
    "#### Basic results:\n",
    "- for $d=1,...,7$\n",
    "- perform 20 runs\n",
    "- each run randomly split $zipcombo.dat$ in 80% train and 20% test"
   ],
   "metadata": {
    "collapsed": false
   }
  },
  {
   "cell_type": "code",
   "execution_count": 8,
   "outputs": [
    {
     "name": "stdout",
     "output_type": "stream",
     "text": [
      "0\n",
      "1\n",
      "2\n",
      "3\n",
      "4\n",
      "5\n",
      "6\n",
      "7\n",
      "8\n",
      "9\n",
      "10\n",
      "11\n",
      "12\n",
      "13\n",
      "14\n",
      "15\n",
      "16\n",
      "17\n",
      "18\n",
      "19\n"
     ]
    }
   ],
   "source": [
    "seeds = np.random.randint(0, 100, 20)\n",
    "\n",
    "mse_train = []\n",
    "std_train = []\n",
    "\n",
    "mse_test = []\n",
    "std_test = []\n",
    "\n",
    "for d in range(1, 7):\n",
    "    for run in range(20):\n",
    "        # different seed for each run\n",
    "        train, test = split_80_20(lines, seeds[run])\n"
   ],
   "metadata": {
    "collapsed": false
   }
  },
  {
   "cell_type": "code",
   "execution_count": null,
   "outputs": [],
   "source": [],
   "metadata": {
    "collapsed": false
   }
  }
 ],
 "metadata": {
  "kernelspec": {
   "display_name": "Python 3",
   "language": "python",
   "name": "python3"
  },
  "language_info": {
   "codemirror_mode": {
    "name": "ipython",
    "version": 2
   },
   "file_extension": ".py",
   "mimetype": "text/x-python",
   "name": "python",
   "nbconvert_exporter": "python",
   "pygments_lexer": "ipython2",
   "version": "2.7.6"
  }
 },
 "nbformat": 4,
 "nbformat_minor": 0
}