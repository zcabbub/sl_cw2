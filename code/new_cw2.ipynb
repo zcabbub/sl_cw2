{
 "cells": [
  {
   "cell_type": "code",
   "execution_count": 1,
   "outputs": [],
   "source": [
    "import numpy as np\n",
    "data = np.loadtxt('../support/zipcombo.dat')"
   ],
   "metadata": {
    "collapsed": false,
    "pycharm": {
     "name": "#%%\n"
    }
   }
  },
  {
   "cell_type": "code",
   "execution_count": 26,
   "outputs": [
    {
     "data": {
      "text/plain": "(9298, 257)"
     },
     "execution_count": 26,
     "metadata": {},
     "output_type": "execute_result"
    }
   ],
   "source": [
    "data.shape"
   ],
   "metadata": {
    "collapsed": false,
    "pycharm": {
     "name": "#%%\n"
    }
   }
  },
  {
   "cell_type": "code",
   "execution_count": 32,
   "outputs": [],
   "source": [
    "def split_80_20(data, seed) -> (np.ndarray, np.ndarray):\n",
    "    '''\n",
    "    Splits 80% train 20% test\n",
    "\n",
    "    :param data: sequence\n",
    "    :return: train_data, test_data: np.ndarray, np.ndarray\n",
    "    '''\n",
    "    np.random.seed(seed)\n",
    "\n",
    "    n = data.shape[0]\n",
    "    shuffle = np.random.permutation(data)\n",
    "    return shuffle[:int(n*0.8)], shuffle[int(n*0.8):]"
   ],
   "metadata": {
    "collapsed": false,
    "pycharm": {
     "name": "#%%\n"
    }
   }
  },
  {
   "cell_type": "code",
   "execution_count": 63,
   "outputs": [],
   "source": [
    "def split_X_y(data):\n",
    "    '''\n",
    "    Splits the data into datapoints and labels, X_train matrix and y_train\n",
    "\n",
    "    :param data: np.ndarray\n",
    "    :return: X_train, y_train: np.ndarray, np.adarray\n",
    "    '''\n",
    "\n",
    "    return data[:, 1:], data[:, 0]\n"
   ],
   "metadata": {
    "collapsed": false,
    "pycharm": {
     "name": "#%%\n"
    }
   }
  },
  {
   "cell_type": "code",
   "execution_count": 64,
   "outputs": [],
   "source": [
    "X_train, y_train = split_X_y(data)"
   ],
   "metadata": {
    "collapsed": false,
    "pycharm": {
     "name": "#%%\n"
    }
   }
  },
  {
   "cell_type": "code",
   "execution_count": 58,
   "outputs": [],
   "source": [
    "import matplotlib.pyplot as plt"
   ],
   "metadata": {
    "collapsed": false,
    "pycharm": {
     "name": "#%%\n"
    }
   }
  },
  {
   "cell_type": "code",
   "execution_count": 56,
   "outputs": [],
   "source": [
    "def display_digit(grayscale):\n",
    "    plt.imshow(grayscale, cmap='gray')"
   ],
   "metadata": {
    "collapsed": false,
    "pycharm": {
     "name": "#%%\n"
    }
   }
  },
  {
   "cell_type": "code",
   "execution_count": 67,
   "outputs": [
    {
     "data": {
      "text/plain": "<Figure size 640x480 with 1 Axes>",
      "image/png": "[encoded data removed]"
     },
     "metadata": {},
     "output_type": "display_data"
    }
   ],
   "source": [
    "display_digit(np.reshape(data[:, 1:][100], (16, 16)))"
   ],
   "metadata": {
    "collapsed": false,
    "pycharm": {
     "name": "#%%\n"
    }
   }
  },
  {
   "cell_type": "markdown",
   "source": [
    "### Part 1\n",
    "\n",
    "#### Basic results:\n",
    "- perform 20 runs\n",
    "- each run for $d=1,...,7$\n",
    "- each run randomly split $zipcombo.dat$ in 80% train and 20% test"
   ],
   "metadata": {
    "collapsed": false,
    "pycharm": {
     "name": "#%% md\n"
    }
   }
  },
  {
   "cell_type": "code",
   "execution_count": 5,
   "outputs": [],
   "source": [
    "from functools import partial\n",
    "from typing import Callable, Iterable"
   ],
   "metadata": {
    "collapsed": false,
    "pycharm": {
     "name": "#%%\n"
    }
   }
  },
  {
   "cell_type": "code",
   "execution_count": 3,
   "outputs": [],
   "source": [
    "def polynomial_kernel(x_i: np.ndarray, x_t: np.ndarray, d: int):\n",
    "    return np.inner(x_i, x_t) ** d"
   ],
   "metadata": {
    "collapsed": false,
    "pycharm": {
     "name": "#%%\n"
    }
   }
  },
  {
   "cell_type": "code",
   "execution_count": null,
   "outputs": [],
   "source": [
    "def gaussian_kernel(x_i: np.ndarray, x_j: np.ndarray, sigma=1):\n",
    "    if x_i.shape[0] != x_j.shape[0]:\n",
    "        raise Exception(\"Cannot apply kernel to vectors of different dimensions: x_i has shape {s1}, x_j has shape {s2}\"\n",
    "                        .format(s1=x_i.shape, s2=x_j.shape))\n",
    "    diff = x_i - x_j\n",
    "    return np.exp(-1 * np.inner(diff, diff) / (2 * sigma**2))"
   ],
   "metadata": {
    "collapsed": false,
    "pycharm": {
     "name": "#%%\n"
    }
   }
  },
  {
   "cell_type": "code",
   "execution_count": 14,
   "outputs": [],
   "source": [
    "class KernelPerceptron:\n",
    "    def __init__(self, kernel: Callable[[np.ndarray, np.ndarray], float]):\n",
    "        self.kernel = kernel\n",
    "\n",
    "\n",
    "    def _get_kernel_matrix(self, X_train):\n",
    "        K = np.zeros((X_train.shape[0], X_train.shape[0]))\n",
    "\n",
    "        for i in range(0, X_train.shape[0]):\n",
    "            x_i = X_train[i, :]\n",
    "            for j in range(i, X_train.shape[0]):\n",
    "                x_j = X_train[j, :]\n",
    "                K[i, j] = K[j, i] = self.kernel(x_i, x_j)\n",
    "\n",
    "        return K\n",
    "\n",
    "\n",
    "    def fit(self, X_train: np.ndarray, y_train: np.ndarray, n_epochs: int):\n",
    "        self.X_train = X_train\n",
    "        self.alpha = np.zeros(X_train.shape[0])\n",
    "\n",
    "        # Compute kernel matrix which stays constant throught the algorithm and all epochs\n",
    "        self.K = self._get_kernel_matrix(X_train)\n",
    "\n",
    "        for epoch in range(0, n_epochs):\n",
    "            for t in range(0, X_train.shape[0]):\n",
    "                y_pred = np.sign(np.sum(np.inner(self.K[t, :t-1], self.alpha[:t-1])))\n",
    "                if y_pred == y_train[t]:\n",
    "                    self.alpha[t] = 0\n",
    "                else:\n",
    "                    self.alpha[t] = y_train[t]\n",
    "\n",
    "    def predict(self, X: np.ndarray) -> np.ndarray:\n",
    "        predictions = []\n",
    "        for x_test in X:\n",
    "            sum = 0\n",
    "            for t in self.X_train.shape[0]:\n",
    "                sum += self.alpha[t] * self.kernel(self.X_train[t, :], x_test)\n",
    "            predictions.append(np.sign(sum))\n",
    "        return np.array(predictions)"
   ],
   "metadata": {
    "collapsed": false,
    "pycharm": {
     "name": "#%%\n"
    }
   }
  },
  {
   "cell_type": "code",
   "execution_count": 33,
   "outputs": [
    {
     "data": {
      "text/plain": "'0'"
     },
     "execution_count": 33,
     "metadata": {},
     "output_type": "execute_result"
    }
   ],
   "source": [
    "np.array(data)[0][2]"
   ],
   "metadata": {
    "collapsed": false,
    "pycharm": {
     "name": "#%%\n"
    }
   }
  },
  {
   "cell_type": "code",
   "execution_count": 15,
   "outputs": [
    {
     "ename": "IndexError",
     "evalue": "too many indices for array: array is 1-dimensional, but 2 were indexed",
     "output_type": "error",
     "traceback": [
      "\u001B[1;31m---------------------------------------------------------------------------\u001B[0m",
      "\u001B[1;31mIndexError\u001B[0m                                Traceback (most recent call last)",
      "Cell \u001B[1;32mIn[15], line 3\u001B[0m\n\u001B[0;32m      1\u001B[0m \u001B[38;5;66;03m# Example usage of KernelPerceptron (untested)\u001B[39;00m\n\u001B[0;32m      2\u001B[0m kp \u001B[38;5;241m=\u001B[39m KernelPerceptron(kernel\u001B[38;5;241m=\u001B[39mpartial(polynomial_kernel, d\u001B[38;5;241m=\u001B[39m\u001B[38;5;241m3\u001B[39m))\n\u001B[1;32m----> 3\u001B[0m \u001B[43mkp\u001B[49m\u001B[38;5;241;43m.\u001B[39;49m\u001B[43m_get_kernel_matrix\u001B[49m\u001B[43m(\u001B[49m\u001B[43mnp\u001B[49m\u001B[38;5;241;43m.\u001B[39;49m\u001B[43marray\u001B[49m\u001B[43m(\u001B[49m\u001B[43mlines\u001B[49m\u001B[43m)\u001B[49m\u001B[43m)\u001B[49m\n\u001B[0;32m      4\u001B[0m \u001B[38;5;66;03m#\u001B[39;00m\n\u001B[0;32m      5\u001B[0m \u001B[38;5;66;03m# kp.fit(X_train, y_train, 100)\u001B[39;00m\n\u001B[0;32m      6\u001B[0m \u001B[38;5;66;03m# y_outsample = kp.predict(X_test) # all predictions of test sample in y_outsample\u001B[39;00m\n",
      "Cell \u001B[1;32mIn[14], line 10\u001B[0m, in \u001B[0;36mKernelPerceptron._get_kernel_matrix\u001B[1;34m(self, X_train)\u001B[0m\n\u001B[0;32m      7\u001B[0m K \u001B[38;5;241m=\u001B[39m np\u001B[38;5;241m.\u001B[39mzeros((X_train\u001B[38;5;241m.\u001B[39mshape[\u001B[38;5;241m0\u001B[39m], X_train\u001B[38;5;241m.\u001B[39mshape[\u001B[38;5;241m0\u001B[39m]))\n\u001B[0;32m      9\u001B[0m \u001B[38;5;28;01mfor\u001B[39;00m i \u001B[38;5;129;01min\u001B[39;00m \u001B[38;5;28mrange\u001B[39m(\u001B[38;5;241m0\u001B[39m, X_train\u001B[38;5;241m.\u001B[39mshape[\u001B[38;5;241m0\u001B[39m]):\n\u001B[1;32m---> 10\u001B[0m     x_i \u001B[38;5;241m=\u001B[39m \u001B[43mX_train\u001B[49m\u001B[43m[\u001B[49m\u001B[43mi\u001B[49m\u001B[43m,\u001B[49m\u001B[43m \u001B[49m\u001B[43m:\u001B[49m\u001B[43m]\u001B[49m\n\u001B[0;32m     11\u001B[0m     \u001B[38;5;28;01mfor\u001B[39;00m j \u001B[38;5;129;01min\u001B[39;00m \u001B[38;5;28mrange\u001B[39m(i, X_train\u001B[38;5;241m.\u001B[39mshape[\u001B[38;5;241m0\u001B[39m]):\n\u001B[0;32m     12\u001B[0m         x_j \u001B[38;5;241m=\u001B[39m X_train[j, :]\n",
      "\u001B[1;31mIndexError\u001B[0m: too many indices for array: array is 1-dimensional, but 2 were indexed"
     ]
    }
   ],
   "source": [
    "# Example usage of KernelPerceptron (untested)\n",
    "kp = KernelPerceptron(kernel=partial(polynomial_kernel, d=3))\n",
    "kp._get_kernel_matrix(np.array(lines))\n",
    "#\n",
    "# kp.fit(X_train, y_train, 100)\n",
    "# y_outsample = kp.predict(X_test) # all predictions of test sample in y_outsample"
   ],
   "metadata": {
    "collapsed": false,
    "pycharm": {
     "name": "#%%\n"
    }
   }
  },
  {
   "cell_type": "code",
   "execution_count": 8,
   "outputs": [
    {
     "name": "stdout",
     "output_type": "stream",
     "text": [
      "0\n",
      "1\n",
      "2\n",
      "3\n",
      "4\n",
      "5\n",
      "6\n",
      "7\n",
      "8\n",
      "9\n",
      "10\n",
      "11\n",
      "12\n",
      "13\n",
      "14\n",
      "15\n",
      "16\n",
      "17\n",
      "18\n",
      "19\n"
     ]
    }
   ],
   "source": [
    "seeds = np.random.randint(0, 100, 20)\n",
    "\n",
    "mse_train = []\n",
    "std_train = []\n",
    "\n",
    "mse_test = []\n",
    "std_test = []\n",
    "\n",
    "for d in range(1, 7):\n",
    "    for run in range(20):\n",
    "        # different seed for each run\n",
    "        train, test = split(lines, seeds[run])\n"
   ],
   "metadata": {
    "collapsed": false,
    "pycharm": {
     "name": "#%%\n"
    }
   }
  },
  {
   "cell_type": "code",
   "execution_count": null,
   "outputs": [],
   "source": [],
   "metadata": {
    "collapsed": false,
    "pycharm": {
     "name": "#%%\n"
    }
   }
  }
 ],
 "metadata": {
  "kernelspec": {
   "display_name": "Python 3",
   "language": "python",
   "name": "python3"
  },
  "language_info": {
   "codemirror_mode": {
    "name": "ipython",
    "version": 2
   },
   "file_extension": ".py",
   "mimetype": "text/x-python",
   "name": "python",
   "nbconvert_exporter": "python",
   "pygments_lexer": "ipython2",
   "version": "2.7.6"
  }
 },
 "nbformat": 4,
 "nbformat_minor": 0
}